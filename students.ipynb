{
 "cells": [
  {
   "cell_type": "code",
   "execution_count": 273,
   "metadata": {},
   "outputs": [],
   "source": [
    "import numpy as np\n",
    "import pandas as pd\n",
    "import matplotlib.pyplot as plt\n",
    "from sklearn.model_selection import train_test_split\n",
    "from sklearn.neural_network import MLPClassifier\n",
    "import copy\n",
    "from sklearn.decomposition import PCA"
   ]
  },
  {
   "cell_type": "code",
   "execution_count": 135,
   "metadata": {},
   "outputs": [],
   "source": [
    "df_maths = pd.read_csv('data/maths.csv', sep=';')\n",
    "df_portugese = pd.read_csv('data/portugese.csv', sep=';')"
   ]
  },
  {
   "cell_type": "code",
   "execution_count": 136,
   "metadata": {},
   "outputs": [
    {
     "name": "stderr",
     "output_type": "stream",
     "text": [
      "C:\\Users\\Mateusz\\AppData\\Local\\Temp\\ipykernel_3952\\4216927538.py:32: FutureWarning: In a future version, `df.iloc[:, i] = newvals` will attempt to set the values inplace instead of always setting a new array. To retain the old behavior, use either `df[df.columns[i]] = newvals` or, if columns are non-unique, `df.isetitem(i, newvals)`\n",
      "  df_maths.loc[:, x] = df_maths.loc[:, x].astype('category')\n",
      "C:\\Users\\Mateusz\\AppData\\Local\\Temp\\ipykernel_3952\\4216927538.py:32: FutureWarning: In a future version, `df.iloc[:, i] = newvals` will attempt to set the values inplace instead of always setting a new array. To retain the old behavior, use either `df[df.columns[i]] = newvals` or, if columns are non-unique, `df.isetitem(i, newvals)`\n",
      "  df_maths.loc[:, x] = df_maths.loc[:, x].astype('category')\n"
     ]
    }
   ],
   "source": [
    "# print(df_maths.columns)\n",
    "# print(pd.crosstab(index=df_maths.loc[:, 'guardian'], columns='count').sort_values(by='count'))\n",
    "\n",
    "data_dictionary = {\n",
    "    'reason': ['reputation', 'home', 'course', 'other'],\n",
    "    'guardian': ['mother', 'father', 'other']\n",
    "}\n",
    "\n",
    "columns_to_delete = ['Mjob', 'Fjob']\n",
    "\n",
    "for col in columns_to_delete:\n",
    "    try: del df_maths[col]\n",
    "    except: print(col+' already deleted')\n",
    "\n",
    "df_maths['school'] = np.where(df_maths['school'] == 'GP', 0, 1)\n",
    "df_maths['sex'] = np.where(df_maths['sex'] == 'F', 0, 1)\n",
    "df_maths['address'] = np.where(df_maths['address'] == 'U', 0, 1)\n",
    "df_maths['famsize'] = np.where(df_maths['famsize'] == 'LE3', 0, 1)\n",
    "df_maths['Pstatus'] = np.where(df_maths['Pstatus'] == 'A', 0, 1)\n",
    "\n",
    "index = 0\n",
    "for x in data_dictionary['reason']:\n",
    "    df_maths.loc[df_maths['reason'] == x, 'reason'] = index\n",
    "    index += 1\n",
    "\n",
    "index = 0\n",
    "for x in data_dictionary['guardian']:\n",
    "    df_maths.loc[df_maths['guardian'] == x, 'guardian'] = index\n",
    "    index += 1\n",
    "\n",
    "for x in data_dictionary:\n",
    "    df_maths.loc[:, x] = df_maths.loc[:, x].astype('category')\n",
    "\n",
    "df_maths['schoolsup'] = np.where(df_maths['schoolsup'] == 'no', 0, 1)\n",
    "df_maths['famsup'] = np.where(df_maths['famsup'] == 'no', 0, 1)\n",
    "df_maths['paid'] = np.where(df_maths['paid'] == 'no', 0, 1)\n",
    "df_maths['activities'] = np.where(df_maths['activities'] == 'no', 0, 1)\n",
    "df_maths['nursery'] = np.where(df_maths['nursery'] == 'no', 0, 1)\n",
    "df_maths['higher'] = np.where(df_maths['higher'] == 'no', 0, 1)\n",
    "df_maths['internet'] = np.where(df_maths['internet'] == 'no', 0, 1)\n",
    "df_maths['romantic'] = np.where(df_maths['romantic'] == 'no', 0, 1)"
   ]
  },
  {
   "cell_type": "code",
   "execution_count": 137,
   "metadata": {},
   "outputs": [
    {
     "name": "stderr",
     "output_type": "stream",
     "text": [
      "C:\\Users\\Mateusz\\AppData\\Local\\Temp\\ipykernel_3952\\3390760798.py:25: FutureWarning: In a future version, `df.iloc[:, i] = newvals` will attempt to set the values inplace instead of always setting a new array. To retain the old behavior, use either `df[df.columns[i]] = newvals` or, if columns are non-unique, `df.isetitem(i, newvals)`\n",
      "  df_portugese.loc[:, x] = df_portugese.loc[:, x].astype('category')\n",
      "C:\\Users\\Mateusz\\AppData\\Local\\Temp\\ipykernel_3952\\3390760798.py:25: FutureWarning: In a future version, `df.iloc[:, i] = newvals` will attempt to set the values inplace instead of always setting a new array. To retain the old behavior, use either `df[df.columns[i]] = newvals` or, if columns are non-unique, `df.isetitem(i, newvals)`\n",
      "  df_portugese.loc[:, x] = df_portugese.loc[:, x].astype('category')\n"
     ]
    }
   ],
   "source": [
    "# print(df_portugese.columns)\n",
    "# print(pd.crosstab(index=df_portugese.loc[:, 'guardian'], columns='count').sort_values(by='count'))\n",
    "\n",
    "for col in columns_to_delete:\n",
    "    try: del df_portugese[col]\n",
    "    except: print(col+' already deleted')\n",
    "\n",
    "df_portugese['school'] = np.where(df_portugese['school'] == 'GP', 0, 1)\n",
    "df_portugese['sex'] = np.where(df_portugese['sex'] == 'F', 0, 1)\n",
    "df_portugese['address'] = np.where(df_portugese['address'] == 'U', 0, 1)\n",
    "df_portugese['famsize'] = np.where(df_portugese['famsize'] == 'LE3', 0, 1)\n",
    "df_portugese['Pstatus'] = np.where(df_portugese['Pstatus'] == 'A', 0, 1)\n",
    "\n",
    "index = 0\n",
    "for x in data_dictionary['reason']:\n",
    "    df_portugese.loc[df_portugese['reason'] == x, 'reason'] = index\n",
    "    index += 1\n",
    "\n",
    "index = 0\n",
    "for x in data_dictionary['guardian']:\n",
    "    df_portugese.loc[df_portugese['guardian'] == x, 'guardian'] = index\n",
    "    index += 1\n",
    "\n",
    "for x in data_dictionary:\n",
    "    df_portugese.loc[:, x] = df_portugese.loc[:, x].astype('category')\n",
    "\n",
    "df_portugese['schoolsup'] = np.where(df_portugese['schoolsup'] == 'no', 0, 1)\n",
    "df_portugese['famsup'] = np.where(df_portugese['famsup'] == 'no', 0, 1)\n",
    "df_portugese['paid'] = np.where(df_portugese['paid'] == 'no', 0, 1)\n",
    "df_portugese['activities'] = np.where(df_portugese['activities'] == 'no', 0, 1)\n",
    "df_portugese['nursery'] = np.where(df_portugese['nursery'] == 'no', 0, 1)\n",
    "df_portugese['higher'] = np.where(df_portugese['higher'] == 'no', 0, 1)\n",
    "df_portugese['internet'] = np.where(df_portugese['internet'] == 'no', 0, 1)\n",
    "df_portugese['romantic'] = np.where(df_portugese['romantic'] == 'no', 0, 1)"
   ]
  },
  {
   "cell_type": "code",
   "execution_count": 295,
   "metadata": {},
   "outputs": [
    {
     "name": "stdout",
     "output_type": "stream",
     "text": [
      "[11 16 13  9 11 13 12 15 10 10]\n",
      "[15 14 19  7 10 11 11 12 11 10]\n"
     ]
    }
   ],
   "source": [
    "y = np.array(df_portugese.loc[:, 'G3'])\n",
    "# X = np.array(df_portugese.loc[:, ['G1', 'G2']])\n",
    "X = np.array(df_portugese.loc[:, df_portugese.columns[0: len(df_portugese.columns)-3]])\n",
    "\n",
    "X_train, X_test, y_train, y_test = train_test_split(X, y, test_size=0.2)\n",
    "\n",
    "# clf = MLPClassifier(hidden_layer_sizes=2, activation='relu', solver='sgd', batch_size=100, learning_rate_init=0.001, max_iter=10000)\n",
    "clf = tree.DecisionTreeClassifier()\n",
    "\n",
    "clf.fit(X_train, y_train)\n",
    "Y = clf.predict(X_test)\n",
    "\n",
    "clf.score(X_test, y_test)\n",
    "\n",
    "print(y_test[0:10])\n",
    "print(Y[0:10])\n",
    "\n"
   ]
  }
 ],
 "metadata": {
  "kernelspec": {
   "display_name": "Python 3.10.8 64-bit",
   "language": "python",
   "name": "python3"
  },
  "language_info": {
   "codemirror_mode": {
    "name": "ipython",
    "version": 3
   },
   "file_extension": ".py",
   "mimetype": "text/x-python",
   "name": "python",
   "nbconvert_exporter": "python",
   "pygments_lexer": "ipython3",
   "version": "3.10.8"
  },
  "orig_nbformat": 4,
  "vscode": {
   "interpreter": {
    "hash": "ea691c577c8a5ba935f4d99bbd5c939a093ed1ee2cfc6fd5842a5972ac98f129"
   }
  }
 },
 "nbformat": 4,
 "nbformat_minor": 2
}
